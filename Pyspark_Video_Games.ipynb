{
 "cells": [
  {
   "cell_type": "code",
   "execution_count": 1,
   "metadata": {
    "collapsed": true
   },
   "outputs": [],
   "source": [
    "import findspark"
   ]
  },
  {
   "cell_type": "code",
   "execution_count": 2,
   "metadata": {
    "collapsed": true
   },
   "outputs": [],
   "source": [
    "findspark.init(\"C:\\\\spark\")"
   ]
  },
  {
   "cell_type": "code",
   "execution_count": 3,
   "metadata": {
    "collapsed": true
   },
   "outputs": [],
   "source": [
    "from pyspark.sql import SparkSession"
   ]
  },
  {
   "cell_type": "code",
   "execution_count": 4,
   "metadata": {
    "collapsed": true
   },
   "outputs": [],
   "source": [
    "spark = SparkSession.builder.getOrCreate()"
   ]
  },
  {
   "cell_type": "code",
   "execution_count": 5,
   "metadata": {
    "collapsed": true
   },
   "outputs": [],
   "source": [
    "dataset = spark.read.format(\"csv\").option(\"header\", \"true\").load(\"Video_Game_Sales_as_of_Jan_2017.csv\")"
   ]
  },
  {
   "cell_type": "code",
   "execution_count": 6,
   "metadata": {
    "collapsed": true
   },
   "outputs": [],
   "source": [
    "data = dataset.groupby(\"Platform\").count().orderBy(\"count\", ascending = False)"
   ]
  },
  {
   "cell_type": "code",
   "execution_count": 7,
   "metadata": {},
   "outputs": [
    {
     "data": {
      "text/plain": [
       "[Row(Platform='DS', count=2251),\n",
       " Row(Platform='PS2', count=2206),\n",
       " Row(Platform='PS3', count=1362),\n",
       " Row(Platform='Wii', count=1359),\n",
       " Row(Platform='PSP', count=1304),\n",
       " Row(Platform='X360', count=1298),\n",
       " Row(Platform='PS', count=1200),\n",
       " Row(Platform='PC', count=1128),\n",
       " Row(Platform='GBA', count=844),\n",
       " Row(Platform='X', count=833),\n",
       " Row(Platform='GC', count=563),\n",
       " Row(Platform='3DS', count=553),\n",
       " Row(Platform='PSV', count=503),\n",
       " Row(Platform='PS4', count=424),\n",
       " Row(Platform='N64', count=319),\n",
       " Row(Platform='XOne', count=264),\n",
       " Row(Platform='SNES', count=239),\n",
       " Row(Platform='SAT', count=173),\n",
       " Row(Platform='WiiU', count=153),\n",
       " Row(Platform='2600', count=133),\n",
       " Row(Platform='NES', count=98),\n",
       " Row(Platform='G', count=98),\n",
       " Row(Platform='DC', count=52),\n",
       " Row(Platform='GEN', count=27),\n",
       " Row(Platform='NG', count=12),\n",
       " Row(Platform='WS', count=7),\n",
       " Row(Platform='SCD', count=6),\n",
       " Row(Platform='3DO', count=3),\n",
       " Row(Platform='TG16', count=2),\n",
       " Row(Platform='PCFX', count=1),\n",
       " Row(Platform='GG', count=1)]"
      ]
     },
     "execution_count": 7,
     "metadata": {},
     "output_type": "execute_result"
    }
   ],
   "source": [
    "data.collect()"
   ]
  },
  {
   "cell_type": "code",
   "execution_count": 8,
   "metadata": {
    "collapsed": true
   },
   "outputs": [],
   "source": [
    "data2 = dataset.groupBy(\"Genre\").count().orderBy(\"count\", ascending=False)"
   ]
  },
  {
   "cell_type": "code",
   "execution_count": 9,
   "metadata": {},
   "outputs": [
    {
     "data": {
      "text/plain": [
       "[Row(Genre='Action', count=3503),\n",
       " Row(Genre='Sports', count=2408),\n",
       " Row(Genre='Misc', count=1813),\n",
       " Row(Genre='Role-Playing', count=1545),\n",
       " Row(Genre='Adventure', count=1478),\n",
       " Row(Genre='Shooter', count=1349),\n",
       " Row(Genre='Racing', count=1282),\n",
       " Row(Genre='Simulation', count=925),\n",
       " Row(Genre='Platform', count=900),\n",
       " Row(Genre='Fighting', count=864),\n",
       " Row(Genre='Strategy', count=734),\n",
       " Row(Genre='Puzzle', count=615)]"
      ]
     },
     "execution_count": 9,
     "metadata": {},
     "output_type": "execute_result"
    }
   ],
   "source": [
    "data2.collect()"
   ]
  },
  {
   "cell_type": "code",
   "execution_count": null,
   "metadata": {
    "collapsed": true
   },
   "outputs": [],
   "source": []
  }
 ],
 "metadata": {
  "kernelspec": {
   "display_name": "Python 3",
   "language": "python",
   "name": "python3"
  },
  "language_info": {
   "codemirror_mode": {
    "name": "ipython",
    "version": 3
   },
   "file_extension": ".py",
   "mimetype": "text/x-python",
   "name": "python",
   "nbconvert_exporter": "python",
   "pygments_lexer": "ipython3",
   "version": "3.6.3"
  }
 },
 "nbformat": 4,
 "nbformat_minor": 2
}
