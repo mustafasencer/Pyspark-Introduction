{
 "cells": [
  {
   "cell_type": "code",
   "execution_count": 1,
   "metadata": {
    "collapsed": true
   },
   "outputs": [],
   "source": [
    "import findspark"
   ]
  },
  {
   "cell_type": "code",
   "execution_count": 2,
   "metadata": {
    "collapsed": true
   },
   "outputs": [],
   "source": [
    "findspark.init(\"C:\\\\spark\")"
   ]
  },
  {
   "cell_type": "code",
   "execution_count": 3,
   "metadata": {
    "collapsed": true
   },
   "outputs": [],
   "source": [
    "from pyspark.sql import SparkSession"
   ]
  },
  {
   "cell_type": "code",
   "execution_count": 4,
   "metadata": {
    "collapsed": true
   },
   "outputs": [],
   "source": [
    "spark = SparkSession.builder.appName(\"First_Example\").getOrCreate()"
   ]
  },
  {
   "cell_type": "code",
   "execution_count": 6,
   "metadata": {},
   "outputs": [],
   "source": [
    "df = spark.read\\\n",
    ".json(\"C:\\\\Users\\\\lenovo\\\\Desktop\\\\PROJECTS\\\\SPARK\\\\İnsanlar_Data\\\\insanlar.json\")"
   ]
  },
  {
   "cell_type": "code",
   "execution_count": 7,
   "metadata": {},
   "outputs": [
    {
     "name": "stdout",
     "output_type": "stream",
     "text": [
      "+--------------------+--------+----+--------+----+\n",
      "|     _corrupt_record|cinsiyet|  id|    isim| yas|\n",
      "+--------------------+--------+----+--------+----+\n",
      "|[{\"id\":1,\"isim\":\"...|    null|null|    null|null|\n",
      "|                null|  Female|   2|  Nadean|  29|\n",
      "|                null|    Male|   3| Edgardo|  67|\n",
      "|                null|  Female|   4|   Vonny|  59|\n",
      "|                null|    Male|   5|Hercules|  62|\n",
      "|                null|    Male|   6|   Lanny|  65|\n",
      "|                null|    Male|   7|  Norris|  19|\n",
      "|                null|  Female|   8|   Karia|  51|\n",
      "|                null|  Female|   9|  Korrie|  37|\n",
      "|                null|  Female|  10|  Hallie|  54|\n",
      "|                null|  Female|  11|   Aidan|  31|\n",
      "|                null|  Female|  12|   Lotte|  60|\n",
      "|                null|  Female|  13|    Zora|  28|\n",
      "|                null|  Female|  14|Odelinda|  46|\n",
      "|                null|    Male|  15|Basilius|  51|\n",
      "|                null|  Female|  16|   Irena|  52|\n",
      "|                null|    Male|  17|    Vite|  68|\n",
      "|                null|    Male|  18|     Ave|  47|\n",
      "|                null|    Male|  19| Vassili|  25|\n",
      "|                null|    Male|  20| Bastien|  62|\n",
      "|                null|  Female|  21|     Ola|  23|\n",
      "|                null|    Male|  22|   Meryl|  23|\n",
      "|                null|    Male|  23|   Nikki|  14|\n",
      "|                null|  Female|  24|     Joy|  59|\n",
      "|                null|    Male|  25|  Nikola|  38|\n",
      "|                null|    Male|  26|   Prent|  29|\n",
      "|                null|  Female|  27|   Amara|  38|\n",
      "|                null|  Female|  28|   Honor|  15|\n",
      "|                null|  Female|  29| Monique|  56|\n",
      "|                null|  Female|  30|     Fae|  61|\n",
      "|                null|  Female|  31|  Emilia|  69|\n",
      "|                null|  Female|  32|  Marley|  56|\n",
      "|                null|  Female|  33|  Bambie|  27|\n",
      "|                null|  Female|  34|   Dredi|  48|\n",
      "|                null|  Female|  35|   Mable|  29|\n",
      "|                null|  Female|  36| Dorelle|  43|\n",
      "|                null|  Female|  37|   Nonna|  54|\n",
      "|                null|    Male|  38|Algernon|  20|\n",
      "|                null|    Male|  39|  Antone|  19|\n",
      "|                null|    Male|  40|    Lyle|  27|\n",
      "|                null|  Female|  41|  Corina|  43|\n",
      "|                null|    Male|  42|   Homer|  24|\n",
      "|                null|    Male|  43| Sargent|  11|\n",
      "|                null|  Female|  44|   Marge|  67|\n",
      "|                null|    Male|  45|  Jessey|  33|\n",
      "|                null|  Female|  46|  Paloma|  52|\n",
      "|                null|    Male|  47|  Perice|  51|\n",
      "|                null|    Male|  48|     Joe|  59|\n",
      "|                null|  Female|  49|  Florri|  21|\n",
      "|                null|  Female|  50|    Dale|  18|\n",
      "+--------------------+--------+----+--------+----+\n",
      "only showing top 50 rows\n",
      "\n"
     ]
    }
   ],
   "source": [
    "df.show(50)"
   ]
  },
  {
   "cell_type": "code",
   "execution_count": 8,
   "metadata": {},
   "outputs": [
    {
     "name": "stdout",
     "output_type": "stream",
     "text": [
      "+----+\n",
      "| yas|\n",
      "+----+\n",
      "|null|\n",
      "|  29|\n",
      "|  67|\n",
      "|  59|\n",
      "|  62|\n",
      "+----+\n",
      "only showing top 5 rows\n",
      "\n"
     ]
    }
   ],
   "source": [
    "df.select(\"yas\").show(5)"
   ]
  },
  {
   "cell_type": "code",
   "execution_count": 9,
   "metadata": {},
   "outputs": [
    {
     "name": "stdout",
     "output_type": "stream",
     "text": [
      "+--------+---------+\n",
      "|    isim|(yas + 1)|\n",
      "+--------+---------+\n",
      "|    null|     null|\n",
      "|  Nadean|       30|\n",
      "| Edgardo|       68|\n",
      "|   Vonny|       60|\n",
      "|Hercules|       63|\n",
      "|   Lanny|       66|\n",
      "|  Norris|       20|\n",
      "|   Karia|       52|\n",
      "|  Korrie|       38|\n",
      "|  Hallie|       55|\n",
      "+--------+---------+\n",
      "only showing top 10 rows\n",
      "\n"
     ]
    }
   ],
   "source": [
    "df.select(df[\"isim\"], df[\"yas\"] +1).show(10)"
   ]
  },
  {
   "cell_type": "code",
   "execution_count": 10,
   "metadata": {},
   "outputs": [
    {
     "name": "stdout",
     "output_type": "stream",
     "text": [
      "+---------------+--------+---+----------+---+\n",
      "|_corrupt_record|cinsiyet| id|      isim|yas|\n",
      "+---------------+--------+---+----------+---+\n",
      "|           null|  Female|168|     Marty|  9|\n",
      "|           null|  Female|149|    Crissy|  9|\n",
      "|           null|  Female|493| Cristabel|  9|\n",
      "|           null|  Female|495|     Becca|  9|\n",
      "|           null|  Female|228|   Rozanna|  9|\n",
      "|           null|    Male|291|     Mason|  9|\n",
      "|           null|    Male|212|      Phip|  9|\n",
      "|           null|  Female|292|    Tammie|  9|\n",
      "|           null|    Male|197|Christiano|  9|\n",
      "|           null|    Male|420|        Jo|  9|\n",
      "|           null|  Female|460|   Elsbeth|  9|\n",
      "|           null|  Female|222|  Jaquelin|  9|\n",
      "|           null|    Male| 52|  Gilberto| 10|\n",
      "|           null|    Male| 84|   Raymund| 10|\n",
      "|           null|    Male|295|      Mark| 10|\n",
      "|           null|  Female|206|     Ruthy| 10|\n",
      "|           null|  Female|163|    Veriee| 10|\n",
      "|           null|  Female|298|      Page| 10|\n",
      "|           null|    Male|461|      Tore| 10|\n",
      "|           null|    Male|334| Zachariah| 10|\n",
      "+---------------+--------+---+----------+---+\n",
      "only showing top 20 rows\n",
      "\n"
     ]
    }
   ],
   "source": [
    "df.filter(df[\"yas\"] < 22).orderBy(\"yas\", ascending = True).show(20)"
   ]
  },
  {
   "cell_type": "code",
   "execution_count": 11,
   "metadata": {},
   "outputs": [
    {
     "name": "stdout",
     "output_type": "stream",
     "text": [
      "+---+-----+\n",
      "|yas|count|\n",
      "+---+-----+\n",
      "| 29|   15|\n",
      "| 26|    1|\n",
      "| 65|    4|\n",
      "| 19|    8|\n",
      "| 54|    6|\n",
      "| 22|    9|\n",
      "| 34|    6|\n",
      "| 50|   12|\n",
      "| 57|    6|\n",
      "| 43|   13|\n",
      "+---+-----+\n",
      "only showing top 10 rows\n",
      "\n"
     ]
    }
   ],
   "source": [
    "df.groupBy(\"yas\").count().show(10)"
   ]
  },
  {
   "cell_type": "code",
   "execution_count": 12,
   "metadata": {},
   "outputs": [
    {
     "name": "stdout",
     "output_type": "stream",
     "text": [
      "+---+-----+\n",
      "|yas|count|\n",
      "+---+-----+\n",
      "| 29|   15|\n",
      "| 45|   15|\n",
      "| 39|   13|\n",
      "| 43|   13|\n",
      "| 16|   13|\n",
      "| 51|   12|\n",
      "|  9|   12|\n",
      "| 50|   12|\n",
      "| 15|   12|\n",
      "| 28|   11|\n",
      "| 41|   11|\n",
      "| 24|   11|\n",
      "| 63|   10|\n",
      "| 47|   10|\n",
      "| 35|   10|\n",
      "| 62|   10|\n",
      "| 61|   10|\n",
      "| 20|   10|\n",
      "| 66|    9|\n",
      "| 56|    9|\n",
      "+---+-----+\n",
      "only showing top 20 rows\n",
      "\n"
     ]
    }
   ],
   "source": [
    "df.groupBy(\"yas\").count().orderBy(\"count\", ascending = False).show(20)"
   ]
  },
  {
   "cell_type": "code",
   "execution_count": null,
   "metadata": {
    "collapsed": true
   },
   "outputs": [],
   "source": []
  }
 ],
 "metadata": {
  "kernelspec": {
   "display_name": "Python 3",
   "language": "python",
   "name": "python3"
  },
  "language_info": {
   "codemirror_mode": {
    "name": "ipython",
    "version": 3
   },
   "file_extension": ".py",
   "mimetype": "text/x-python",
   "name": "python",
   "nbconvert_exporter": "python",
   "pygments_lexer": "ipython3",
   "version": "3.6.3"
  }
 },
 "nbformat": 4,
 "nbformat_minor": 2
}
