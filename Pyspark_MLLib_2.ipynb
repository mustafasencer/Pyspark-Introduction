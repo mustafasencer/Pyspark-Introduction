{
 "cells": [
  {
   "cell_type": "code",
   "execution_count": 2,
   "metadata": {
    "collapsed": true
   },
   "outputs": [],
   "source": [
    "import findspark\n",
    "findspark.init(\"C:\\\\spark\")"
   ]
  },
  {
   "cell_type": "code",
   "execution_count": 3,
   "metadata": {
    "collapsed": true
   },
   "outputs": [],
   "source": [
    "from pyspark.ml.evaluation import RegressionEvaluator\n",
    "from pyspark.ml.recommendation import ALS\n",
    "from pyspark.sql import Row\n",
    "from pyspark.sql import SparkSession"
   ]
  },
  {
   "cell_type": "code",
   "execution_count": 4,
   "metadata": {
    "collapsed": true
   },
   "outputs": [],
   "source": [
    "spark = SparkSession.builder.appName(\"second_example\").getOrCreate()"
   ]
  },
  {
   "cell_type": "code",
   "execution_count": 6,
   "metadata": {},
   "outputs": [],
   "source": [
    "lines = spark.read.csv(\"C:\\\\Users\\\\lenovo\\\\Desktop\\\\PROJECTS\\\\SPARK\\\\ml-latest-small\\\\ratings.csv\", inferSchema = True, header= True)"
   ]
  },
  {
   "cell_type": "code",
   "execution_count": 9,
   "metadata": {},
   "outputs": [
    {
     "name": "stdout",
     "output_type": "stream",
     "text": [
      "+------+-------+------+----------+\n",
      "|userId|movieId|rating| timestamp|\n",
      "+------+-------+------+----------+\n",
      "|     1|     31|   2.5|1260759144|\n",
      "|     1|   1029|   3.0|1260759179|\n",
      "|     1|   1061|   3.0|1260759182|\n",
      "|     1|   1129|   2.0|1260759185|\n",
      "|     1|   1172|   4.0|1260759205|\n",
      "|     1|   1263|   2.0|1260759151|\n",
      "|     1|   1287|   2.0|1260759187|\n",
      "|     1|   1293|   2.0|1260759148|\n",
      "|     1|   1339|   3.5|1260759125|\n",
      "|     1|   1343|   2.0|1260759131|\n",
      "|     1|   1371|   2.5|1260759135|\n",
      "|     1|   1405|   1.0|1260759203|\n",
      "|     1|   1953|   4.0|1260759191|\n",
      "|     1|   2105|   4.0|1260759139|\n",
      "|     1|   2150|   3.0|1260759194|\n",
      "|     1|   2193|   2.0|1260759198|\n",
      "|     1|   2294|   2.0|1260759108|\n",
      "|     1|   2455|   2.5|1260759113|\n",
      "|     1|   2968|   1.0|1260759200|\n",
      "|     1|   3671|   3.0|1260759117|\n",
      "+------+-------+------+----------+\n",
      "only showing top 20 rows\n",
      "\n"
     ]
    }
   ],
   "source": [
    "lines.show()"
   ]
  },
  {
   "cell_type": "code",
   "execution_count": 10,
   "metadata": {},
   "outputs": [
    {
     "name": "stdout",
     "output_type": "stream",
     "text": [
      "+-------+------------------+------------------+------------------+--------------------+\n",
      "|summary|            userId|           movieId|            rating|           timestamp|\n",
      "+-------+------------------+------------------+------------------+--------------------+\n",
      "|  count|            100004|            100004|            100004|              100004|\n",
      "|   mean| 347.0113095476181|12548.664363425463| 3.543608255669773|1.1296390869392424E9|\n",
      "| stddev|195.16383797819535|26369.198968815268|1.0580641091070326|1.9168582602710962E8|\n",
      "|    min|                 1|                 1|               0.5|           789652009|\n",
      "|    max|               671|            163949|               5.0|          1476640644|\n",
      "+-------+------------------+------------------+------------------+--------------------+\n",
      "\n"
     ]
    }
   ],
   "source": [
    "lines.describe().show()"
   ]
  },
  {
   "cell_type": "code",
   "execution_count": 11,
   "metadata": {
    "collapsed": true
   },
   "outputs": [],
   "source": [
    "training, test = lines.randomSplit([.7, .3])"
   ]
  },
  {
   "cell_type": "code",
   "execution_count": 14,
   "metadata": {
    "collapsed": true
   },
   "outputs": [],
   "source": [
    "als = ALS(maxIter = 5, regParam= .01, userCol=\"userId\", itemCol=\"movieId\", ratingCol=\"rating\")"
   ]
  },
  {
   "cell_type": "code",
   "execution_count": 15,
   "metadata": {},
   "outputs": [],
   "source": [
    "model = als.fit(training)"
   ]
  },
  {
   "cell_type": "code",
   "execution_count": 16,
   "metadata": {
    "collapsed": true
   },
   "outputs": [],
   "source": [
    "predictions = model.transform(test)"
   ]
  },
  {
   "cell_type": "code",
   "execution_count": 17,
   "metadata": {},
   "outputs": [
    {
     "name": "stdout",
     "output_type": "stream",
     "text": [
      "+------+-------+------+----------+----------+\n",
      "|userId|movieId|rating| timestamp|prediction|\n",
      "+------+-------+------+----------+----------+\n",
      "|    30|    463|   4.0| 945277405| 3.3144078|\n",
      "|   602|    471|   3.0| 842357922| 4.3066087|\n",
      "|   274|    471|   5.0|1074104142|  3.984376|\n",
      "|    86|    471|   4.0| 848161161| 3.8753233|\n",
      "|   491|    471|   3.0| 940797129| 3.3787541|\n",
      "|   452|    471|   3.0| 976422396|  3.242485|\n",
      "|    15|    471|   3.0|1166586067| 4.5712857|\n",
      "|   358|    471|   5.0| 957479605| 3.4695654|\n",
      "|   659|    471|   4.0| 853412972| 3.1520636|\n",
      "|   624|    471|   4.0|1178980875|  3.950105|\n",
      "|   585|    471|   4.0| 975363578|  3.907867|\n",
      "|   102|    471|   5.0| 958248997| 3.7795315|\n",
      "|    73|    471|   4.0|1296460183| 3.4157507|\n",
      "|   574|    471|   3.5|1232817270|  3.529743|\n",
      "|   354|    471|   5.0| 846062674|  3.469145|\n",
      "|   105|    471|   4.0|1085574088| 3.7346623|\n",
      "|   184|    471|   5.0| 833525100| 3.9868639|\n",
      "|   399|    471|   5.0| 841562601| 4.0495667|\n",
      "|   468|    471|   4.0|1296197444|  3.449827|\n",
      "|   547|    496|   3.0| 974778561| 2.5951526|\n",
      "+------+-------+------+----------+----------+\n",
      "only showing top 20 rows\n",
      "\n"
     ]
    }
   ],
   "source": [
    "predictions.show()"
   ]
  },
  {
   "cell_type": "code",
   "execution_count": 18,
   "metadata": {
    "collapsed": true
   },
   "outputs": [],
   "source": [
    "single_user = test.filter(test[\"userId\"] == 12).select([\"userId\", \"movieId\"])"
   ]
  },
  {
   "cell_type": "code",
   "execution_count": 19,
   "metadata": {},
   "outputs": [
    {
     "name": "stdout",
     "output_type": "stream",
     "text": [
      "+------+-------+\n",
      "|userId|movieId|\n",
      "+------+-------+\n",
      "|    12|   1028|\n",
      "|    12|   1197|\n",
      "|    12|   1215|\n",
      "|    12|   2959|\n",
      "|    12|   3148|\n",
      "|    12|   3298|\n",
      "|    12|   3324|\n",
      "|    12|   3791|\n",
      "|    12|   3794|\n",
      "|    12|   3798|\n",
      "|    12|   3831|\n",
      "|    12|   6184|\n",
      "+------+-------+\n",
      "\n"
     ]
    }
   ],
   "source": [
    "single_user.show()"
   ]
  },
  {
   "cell_type": "code",
   "execution_count": 20,
   "metadata": {
    "collapsed": true
   },
   "outputs": [],
   "source": [
    "rec = model.transform(single_user)"
   ]
  },
  {
   "cell_type": "code",
   "execution_count": 23,
   "metadata": {},
   "outputs": [
    {
     "name": "stdout",
     "output_type": "stream",
     "text": [
      "+------+-------+----------+\n",
      "|userId|movieId|prediction|\n",
      "+------+-------+----------+\n",
      "|    12|   6184| 4.6505303|\n",
      "|    12|   3791|  4.237242|\n",
      "|    12|   1215| 4.0544543|\n",
      "|    12|   3798| 3.6441116|\n",
      "|    12|   1197| 3.5210392|\n",
      "|    12|   3298| 3.0280344|\n",
      "|    12|   3794|  2.701707|\n",
      "|    12|   2959| 2.1112463|\n",
      "|    12|   1028| 1.8224916|\n",
      "|    12|   3831| 1.8117235|\n",
      "|    12|   3324| 1.6141449|\n",
      "|    12|   3148|0.55185735|\n",
      "+------+-------+----------+\n",
      "\n"
     ]
    }
   ],
   "source": [
    "rec.orderBy(\"prediction\", ascending=False).show()"
   ]
  }
 ],
 "metadata": {
  "kernelspec": {
   "display_name": "Python 3",
   "language": "python",
   "name": "python3"
  },
  "language_info": {
   "codemirror_mode": {
    "name": "ipython",
    "version": 3
   },
   "file_extension": ".py",
   "mimetype": "text/x-python",
   "name": "python",
   "nbconvert_exporter": "python",
   "pygments_lexer": "ipython3",
   "version": "3.6.3"
  }
 },
 "nbformat": 4,
 "nbformat_minor": 2
}
