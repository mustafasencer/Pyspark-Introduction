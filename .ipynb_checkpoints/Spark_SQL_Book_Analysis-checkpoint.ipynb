{
 "cells": [
  {
   "cell_type": "code",
   "execution_count": 1,
   "metadata": {
    "collapsed": true
   },
   "outputs": [],
   "source": [
    "import findspark"
   ]
  },
  {
   "cell_type": "code",
   "execution_count": 2,
   "metadata": {
    "collapsed": true
   },
   "outputs": [],
   "source": [
    "findspark.init(\"C:\\\\spark\")"
   ]
  },
  {
   "cell_type": "code",
   "execution_count": 3,
   "metadata": {
    "collapsed": true
   },
   "outputs": [],
   "source": [
    "from pyspark.sql import SparkSession\n",
    "from pyspark.sql import Row"
   ]
  },
  {
   "cell_type": "code",
   "execution_count": 36,
   "metadata": {
    "collapsed": true
   },
   "outputs": [],
   "source": [
    "spark = SparkSession.builder.appName(\"SQL_BOOKS\").getOrCreate()"
   ]
  },
  {
   "cell_type": "code",
   "execution_count": 8,
   "metadata": {
    "collapsed": true
   },
   "outputs": [],
   "source": [
    "def CSV_ROW(row):\n",
    "    item = row.split(\",\")\n",
    "    return Row(book_id = int(item[0]), user_id = int(item[1]), rating = int(item[2]))"
   ]
  },
  {
   "cell_type": "code",
   "execution_count": 37,
   "metadata": {
    "collapsed": true
   },
   "outputs": [],
   "source": [
    "rows = spark.sparkContext\\\n",
    ".textFile(\"C:\\\\Users\\\\lenovo\\\\Desktop\\\\PROJECTS\\\\SPARK\\\\books_data\\\\ratings.csv\")\n",
    "header = rows.first()\n",
    "rows = rows.filter(lambda x: x != header)\n",
    "books = rows.map(CSV_ROW)"
   ]
  },
  {
   "cell_type": "code",
   "execution_count": 38,
   "metadata": {
    "collapsed": true
   },
   "outputs": [],
   "source": [
    "df = spark.createDataFrame(books).cache()\n",
    "df.createOrReplaceTempView(\"books\")"
   ]
  },
  {
   "cell_type": "code",
   "execution_count": 11,
   "metadata": {
    "collapsed": true
   },
   "outputs": [
    {
     "name": "stdout",
     "output_type": "stream",
     "text": [
      "+-------+------+-------+\n",
      "|book_id|rating|user_id|\n",
      "+-------+------+-------+\n",
      "|      1|     5|    314|\n",
      "|      1|     3|    439|\n",
      "|      1|     5|    588|\n",
      "|      1|     4|   1169|\n",
      "|      1|     4|   1185|\n",
      "|      1|     4|   2077|\n",
      "|      1|     4|   2487|\n",
      "|      1|     5|   2900|\n",
      "|      1|     4|   3662|\n",
      "|      1|     5|   3922|\n",
      "+-------+------+-------+\n",
      "only showing top 10 rows\n",
      "\n"
     ]
    }
   ],
   "source": [
    "df.show(10)"
   ]
  },
  {
   "cell_type": "code",
   "execution_count": 25,
   "metadata": {
    "collapsed": true
   },
   "outputs": [
    {
     "name": "stdout",
     "output_type": "stream",
     "text": [
      "+-------+-----+\n",
      "|book_id|count|\n",
      "+-------+-----+\n",
      "|     65|  100|\n",
      "|    191|  100|\n",
      "|    418|  100|\n",
      "|    541|  100|\n",
      "|    558|  100|\n",
      "|   1010|  100|\n",
      "|   1224|  100|\n",
      "|   1258|  100|\n",
      "|   1277|  100|\n",
      "|   1360|  100|\n",
      "|   1840|  100|\n",
      "|   2173|  100|\n",
      "|   2812|  100|\n",
      "|   2895|  100|\n",
      "|   2906|  100|\n",
      "|   2941|  100|\n",
      "|   3015|  100|\n",
      "|   3061|  100|\n",
      "|   3106|  100|\n",
      "|   3199|  100|\n",
      "+-------+-----+\n",
      "only showing top 20 rows\n",
      "\n"
     ]
    }
   ],
   "source": [
    "df2 = df.groupBy(\"book_id\").count().orderBy(\"count\", ascending=False)\n",
    "df2.show()"
   ]
  },
  {
   "cell_type": "code",
   "execution_count": 30,
   "metadata": {
    "collapsed": true
   },
   "outputs": [
    {
     "name": "stdout",
     "output_type": "stream",
     "text": [
      "+-------+-----+\n",
      "|book_id|count|\n",
      "+-------+-----+\n",
      "|   9852|   99|\n",
      "|   9691|   99|\n",
      "|   8421|   99|\n",
      "|   9295|   99|\n",
      "|   8872|   99|\n",
      "|   7539|   99|\n",
      "|   9348|   99|\n",
      "|   6225|   99|\n",
      "|   8640|   99|\n",
      "|   7215|   99|\n",
      "|   7612|   99|\n",
      "|   7595|   99|\n",
      "|   8977|   99|\n",
      "|   9632|   99|\n",
      "|   9233|   99|\n",
      "|   8887|   99|\n",
      "|   8440|   99|\n",
      "|   6885|   99|\n",
      "|   7032|   99|\n",
      "|   6911|   99|\n",
      "+-------+-----+\n",
      "only showing top 20 rows\n",
      "\n"
     ]
    }
   ],
   "source": [
    "df2_new = df2.filter(df2[\"count\"] != 100)\n",
    "df2_new.groupBy(\"book_id\").count().orderBy(\"count\", ascending=False)\n",
    "df2_new.show()"
   ]
  },
  {
   "cell_type": "code",
   "execution_count": 32,
   "metadata": {},
   "outputs": [
    {
     "data": {
      "text/plain": [
       "981756"
      ]
     },
     "execution_count": 32,
     "metadata": {},
     "output_type": "execute_result"
    }
   ],
   "source": [
    "df.count()"
   ]
  },
  {
   "cell_type": "code",
   "execution_count": 40,
   "metadata": {
    "collapsed": true
   },
   "outputs": [
    {
     "name": "stdout",
     "output_type": "stream",
     "text": [
      "+-------+-----+\n",
      "|book_id|count|\n",
      "+-------+-----+\n",
      "|   3628|   98|\n",
      "|   2244|   98|\n",
      "|   1308|   97|\n",
      "|   6642|   97|\n",
      "|   9566|   97|\n",
      "|   4483|   97|\n",
      "|   1904|   97|\n",
      "|   6920|   96|\n",
      "|   6527|   96|\n",
      "|   3660|   96|\n",
      "|   5580|   96|\n",
      "|   5207|   96|\n",
      "|   3395|   96|\n",
      "|   3275|   96|\n",
      "|   6361|   95|\n",
      "|   4522|   95|\n",
      "|   9141|   95|\n",
      "|   1380|   95|\n",
      "|   3885|   95|\n",
      "|   7883|   95|\n",
      "+-------+-----+\n",
      "only showing top 20 rows\n",
      "\n"
     ]
    }
   ],
   "source": [
    "spark.sql(\"SELECT * FROM books WHERE rating >= 4\").groupBy(\"book_id\").count().orderBy(\"count\", ascending=False).show()"
   ]
  },
  {
   "cell_type": "code",
   "execution_count": 43,
   "metadata": {
    "collapsed": true
   },
   "outputs": [
    {
     "name": "stdout",
     "output_type": "stream",
     "text": [
      "+-------+-----+\n",
      "|book_id|count|\n",
      "+-------+-----+\n",
      "|   1793|   70|\n",
      "|   1822|   55|\n",
      "|   4045|   52|\n",
      "|   1409|   51|\n",
      "|   3550|   51|\n",
      "|   4283|   51|\n",
      "|   4009|   48|\n",
      "|   4282|   48|\n",
      "|   4399|   47|\n",
      "|     96|   47|\n",
      "|   8874|   46|\n",
      "|   7450|   45|\n",
      "|     34|   45|\n",
      "|   8166|   45|\n",
      "|   8466|   45|\n",
      "|    303|   44|\n",
      "|   9021|   43|\n",
      "|   2749|   41|\n",
      "|   9523|   40|\n",
      "|   5706|   40|\n",
      "+-------+-----+\n",
      "only showing top 20 rows\n",
      "\n"
     ]
    }
   ],
   "source": [
    "spark.sql(\"SELECT * FROM books WHERE rating <= 2\").groupBy(\"book_id\").count().orderBy(\"count\", ascending=False).show()"
   ]
  },
  {
   "cell_type": "code",
   "execution_count": 46,
   "metadata": {},
   "outputs": [
    {
     "name": "stdout",
     "output_type": "stream",
     "text": [
      "+-------+-----------+\n",
      "|book_id|sum(rating)|\n",
      "+-------+-----------+\n",
      "|   5207|        478|\n",
      "|   6920|        478|\n",
      "|   6361|        477|\n",
      "|   3275|        477|\n",
      "|   6590|        475|\n",
      "|   4483|        475|\n",
      "|   5580|        475|\n",
      "|   1308|        474|\n",
      "|   9566|        473|\n",
      "|   3628|        473|\n",
      "|   8978|        473|\n",
      "|   3753|        472|\n",
      "|   8109|        471|\n",
      "|   1788|        470|\n",
      "|   9141|        469|\n",
      "|   2244|        468|\n",
      "|    862|        468|\n",
      "|   4868|        467|\n",
      "|   4708|        466|\n",
      "|   6642|        466|\n",
      "+-------+-----------+\n",
      "only showing top 20 rows\n",
      "\n"
     ]
    }
   ],
   "source": [
    "df.groupBy(\"book_id\").sum(\"rating\").orderBy(\"sum(rating)\", ascending=False).show()"
   ]
  },
  {
   "cell_type": "code",
   "execution_count": null,
   "metadata": {
    "collapsed": true
   },
   "outputs": [],
   "source": [
    "spark.sql(\"SELECT * FROM books WHERE rating <=2\").groupBy(\"book_id\").count().orderBy(\"count\")"
   ]
  }
 ],
 "metadata": {
  "kernelspec": {
   "display_name": "Python 3",
   "language": "python",
   "name": "python3"
  },
  "language_info": {
   "codemirror_mode": {
    "name": "ipython",
    "version": 3
   },
   "file_extension": ".py",
   "mimetype": "text/x-python",
   "name": "python",
   "nbconvert_exporter": "python",
   "pygments_lexer": "ipython3",
   "version": "3.6.3"
  }
 },
 "nbformat": 4,
 "nbformat_minor": 2
}
