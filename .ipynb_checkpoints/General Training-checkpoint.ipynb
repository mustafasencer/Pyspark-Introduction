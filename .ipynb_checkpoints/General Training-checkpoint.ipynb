{
 "cells": [
  {
   "cell_type": "code",
   "execution_count": 10,
   "metadata": {},
   "outputs": [
    {
     "name": "stdout",
     "output_type": "stream",
     "text": [
      "What is your guess?\n",
      "4\n",
      "you found it in 1 try\n"
     ]
    }
   ],
   "source": [
    "import random\n",
    "\n",
    "number = random.randint(1, 9)\n",
    "count = 0\n",
    "guess = 0\n",
    "\n",
    "while guess != \"exit\" and guess != number:\n",
    "    guess = input(\"What is your guess?\\n\")\n",
    "    \n",
    "    guess = int(guess)\n",
    "    count +=1\n",
    "    if(guess == \"exit\"):\n",
    "        break\n",
    "    if guess > number:\n",
    "        print(\"guess too high\")\n",
    "        \n",
    "    elif guess < number:\n",
    "        print(\"guess too low\")\n",
    "    else:\n",
    "        print(\"you found it in \" + str(count) + \" trial\")"
   ]
  },
  {
   "cell_type": "code",
   "execution_count": 18,
   "metadata": {},
   "outputs": [
    {
     "data": {
      "text/plain": [
       "[1, 2, 3, 5, 8, 13]"
      ]
     },
     "execution_count": 18,
     "metadata": {},
     "output_type": "execute_result"
    }
   ],
   "source": [
    "a = [1, 1, 2, 3, 5, 8, 13, 21, 34, 55, 89]\n",
    "b = [1, 2, 3, 4, 5, 6, 7, 8, 9, 10, 11, 12, 13]\n",
    "\n",
    "liste = []\n",
    "for x in a:\n",
    "    [liste.append(y) for y in b if x == y]\n",
    "list(set(liste))"
   ]
  },
  {
   "cell_type": "code",
   "execution_count": 34,
   "metadata": {},
   "outputs": [
    {
     "name": "stdout",
     "output_type": "stream",
     "text": [
      "a simple phrase please:\n",
      "name is jale\n",
      "jale is name \n"
     ]
    }
   ],
   "source": [
    "phrase = input(\"a simple phrase please:\\n\")\n",
    "\n",
    "liste = phrase.split(\" \")\n",
    "a = len(liste)\n",
    "b = \"\"\n",
    "liste2= []\n",
    "for x in range(a-1, -1, -1):\n",
    "    liste2.append(liste[x])\n",
    "for y in liste2:\n",
    "    b += y + \" \"\n",
    "print(b)"
   ]
  }
 ],
 "metadata": {
  "kernelspec": {
   "display_name": "Python 3",
   "language": "python",
   "name": "python3"
  },
  "language_info": {
   "codemirror_mode": {
    "name": "ipython",
    "version": 3
   },
   "file_extension": ".py",
   "mimetype": "text/x-python",
   "name": "python",
   "nbconvert_exporter": "python",
   "pygments_lexer": "ipython3",
   "version": "3.6.3"
  }
 },
 "nbformat": 4,
 "nbformat_minor": 2
}
