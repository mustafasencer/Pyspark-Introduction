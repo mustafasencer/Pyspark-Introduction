{
 "cells": [
  {
   "cell_type": "code",
   "execution_count": 3,
   "metadata": {
    "collapsed": true
   },
   "outputs": [],
   "source": [
    "import findspark"
   ]
  },
  {
   "cell_type": "code",
   "execution_count": 4,
   "metadata": {
    "collapsed": true
   },
   "outputs": [],
   "source": [
    "findspark.init(\"C:\\\\spark\")"
   ]
  },
  {
   "cell_type": "code",
   "execution_count": 5,
   "metadata": {
    "collapsed": true
   },
   "outputs": [],
   "source": [
    "from pyspark import SparkContext"
   ]
  },
  {
   "cell_type": "code",
   "execution_count": 6,
   "metadata": {
    "collapsed": true
   },
   "outputs": [],
   "source": [
    "sc = SparkContext()"
   ]
  },
  {
   "cell_type": "code",
   "execution_count": 6,
   "metadata": {
    "collapsed": true
   },
   "outputs": [],
   "source": [
    "liste1 = [(\"Fiz-I\", 73),\n",
    "         (\"Mat-I\", 63),\n",
    "         (\"Kimya\", 66),\n",
    "         (\"Mat-I\", 44),\n",
    "         (\"Mat-I\", 78)]"
   ]
  },
  {
   "cell_type": "code",
   "execution_count": 7,
   "metadata": {
    "collapsed": true
   },
   "outputs": [],
   "source": [
    "RDD_1 = sc.parallelize(liste1)"
   ]
  },
  {
   "cell_type": "code",
   "execution_count": 8,
   "metadata": {},
   "outputs": [
    {
     "data": {
      "text/plain": [
       "[('Kimya', 66), ('Fiz-I', 73), ('Mat-I', 185)]"
      ]
     },
     "execution_count": 8,
     "metadata": {},
     "output_type": "execute_result"
    }
   ],
   "source": [
    "RDD_1.reduceByKey(lambda x, y: x +y).collect()"
   ]
  },
  {
   "cell_type": "code",
   "execution_count": 9,
   "metadata": {},
   "outputs": [
    {
     "data": {
      "text/plain": [
       "[('Kimya', <pyspark.resultiterable.ResultIterable at 0x7adecf39e8>),\n",
       " ('Fiz-I', <pyspark.resultiterable.ResultIterable at 0x7adecf3c50>),\n",
       " ('Mat-I', <pyspark.resultiterable.ResultIterable at 0x7adecf3908>)]"
      ]
     },
     "execution_count": 9,
     "metadata": {},
     "output_type": "execute_result"
    }
   ],
   "source": [
    "RDD_1.groupByKey().collect()"
   ]
  },
  {
   "cell_type": "code",
   "execution_count": 10,
   "metadata": {},
   "outputs": [
    {
     "name": "stdout",
     "output_type": "stream",
     "text": [
      "Kimya [66]\n",
      "Fiz-I [73]\n",
      "Mat-I [63, 44, 78]\n"
     ]
    }
   ],
   "source": [
    "for i in RDD_1.groupByKey().collect():\n",
    "    print (i[0], list(i[1]))"
   ]
  },
  {
   "cell_type": "code",
   "execution_count": 11,
   "metadata": {},
   "outputs": [
    {
     "data": {
      "text/plain": [
       "[('Kimya', [66]), ('Fiz-I', [73]), ('Mat-I', [63, 44, 78])]"
      ]
     },
     "execution_count": 11,
     "metadata": {},
     "output_type": "execute_result"
    }
   ],
   "source": [
    "group_RDD = RDD_1.groupByKey()\n",
    "[(i[0], list(i[1])) for i in group_RDD.collect()]"
   ]
  },
  {
   "cell_type": "code",
   "execution_count": 12,
   "metadata": {},
   "outputs": [
    {
     "data": {
      "text/plain": [
       "[('Kimya', 66), ('Fiz-I', 73), ('Mat-I', 185)]"
      ]
     },
     "execution_count": 12,
     "metadata": {},
     "output_type": "execute_result"
    }
   ],
   "source": [
    "RDD_1.groupByKey().map(lambda t: (t[0], sum(t[1]))).collect()"
   ]
  },
  {
   "cell_type": "code",
   "execution_count": 13,
   "metadata": {
    "collapsed": true
   },
   "outputs": [],
   "source": [
    "liste2 = [(\"Mat-ı\", 68),\n",
    "         (\"Fzk-ı\", 45),\n",
    "         (\"Kimya\", 94),\n",
    "         (\"Tarih\", 79)]"
   ]
  },
  {
   "cell_type": "code",
   "execution_count": 14,
   "metadata": {},
   "outputs": [
    {
     "data": {
      "text/plain": [
       "[('Fiz-I', 73),\n",
       " ('Mat-I', 63),\n",
       " ('Kimya', 66),\n",
       " ('Mat-I', 44),\n",
       " ('Mat-I', 78),\n",
       " ('Mat-ı', 68),\n",
       " ('Fzk-ı', 45),\n",
       " ('Kimya', 94),\n",
       " ('Tarih', 79)]"
      ]
     },
     "execution_count": 14,
     "metadata": {},
     "output_type": "execute_result"
    }
   ],
   "source": [
    "RDD_2 = sc.parallelize(liste1 + liste2)\n",
    "RDD_2.collect()\n"
   ]
  },
  {
   "cell_type": "code",
   "execution_count": 15,
   "metadata": {
    "collapsed": true
   },
   "outputs": [],
   "source": [
    "toplam = RDD_2.combineByKey((lambda x: (x,1)), \n",
    "                (lambda x, y: (x[0] + y, x[1] + y[0])),\n",
    "                (lambda x, y: (x[0] + y[0], x[1] + y[1])))"
   ]
  },
  {
   "cell_type": "code",
   "execution_count": 16,
   "metadata": {},
   "outputs": [
    {
     "data": {
      "text/plain": [
       "[('Kimya', (160, 2)),\n",
       " ('Fiz-I', (73, 1)),\n",
       " ('Mat-ı', (68, 1)),\n",
       " ('Fzk-ı', (45, 1)),\n",
       " ('Tarih', (79, 1)),\n",
       " ('Mat-I', (185, 3))]"
      ]
     },
     "execution_count": 16,
     "metadata": {},
     "output_type": "execute_result"
    }
   ],
   "source": [
    "toplam.collect()"
   ]
  },
  {
   "cell_type": "code",
   "execution_count": 17,
   "metadata": {},
   "outputs": [
    {
     "data": {
      "text/plain": [
       "[('Kimya', 80.0),\n",
       " ('Fiz-I', 73.0),\n",
       " ('Mat-ı', 68.0),\n",
       " ('Fzk-ı', 45.0),\n",
       " ('Tarih', 79.0),\n",
       " ('Mat-I', 61.666666666666664)]"
      ]
     },
     "execution_count": 17,
     "metadata": {},
     "output_type": "execute_result"
    }
   ],
   "source": [
    "toplam.map(lambda xy: (xy[0], xy[1][0]/xy[1][1])).collect()"
   ]
  },
  {
   "cell_type": "code",
   "execution_count": 18,
   "metadata": {},
   "outputs": [
    {
     "data": {
      "text/plain": [
       "[('Fiz-I', 74),\n",
       " ('Mat-I', 64),\n",
       " ('Kimya', 67),\n",
       " ('Mat-I', 45),\n",
       " ('Mat-I', 79),\n",
       " ('Mat-ı', 69),\n",
       " ('Fzk-ı', 46),\n",
       " ('Kimya', 95),\n",
       " ('Tarih', 80)]"
      ]
     },
     "execution_count": 18,
     "metadata": {},
     "output_type": "execute_result"
    }
   ],
   "source": [
    "RDD_2.mapValues(lambda x: x+1).collect()"
   ]
  },
  {
   "cell_type": "code",
   "execution_count": 19,
   "metadata": {},
   "outputs": [
    {
     "data": {
      "text/plain": [
       "[('Fiz-I', 74),\n",
       " ('Mat-I', 64),\n",
       " ('Kimya', 67),\n",
       " ('Mat-I', 45),\n",
       " ('Mat-I', 79),\n",
       " ('Mat-ı', 69),\n",
       " ('Fzk-ı', 46),\n",
       " ('Kimya', 95),\n",
       " ('Tarih', 80)]"
      ]
     },
     "execution_count": 19,
     "metadata": {},
     "output_type": "execute_result"
    }
   ],
   "source": [
    "RDD_2.map(lambda x: (x[0], x[1] +1)).collect()"
   ]
  },
  {
   "cell_type": "code",
   "execution_count": 20,
   "metadata": {
    "collapsed": true
   },
   "outputs": [],
   "source": [
    "RDD_3 = sc.parallelize([(\"fruit\", \"apple,banane,orange\"),\n",
    "                       (\"animal\", \"panda, zebra\"),\n",
    "                       (\"stuff\", \"lamp, table, book\")])"
   ]
  },
  {
   "cell_type": "code",
   "execution_count": 21,
   "metadata": {},
   "outputs": [
    {
     "data": {
      "text/plain": [
       "[('fruit', 'apple'),\n",
       " ('fruit', 'banane'),\n",
       " ('fruit', 'orange'),\n",
       " ('animal', 'panda'),\n",
       " ('animal', ' zebra'),\n",
       " ('stuff', 'lamp'),\n",
       " ('stuff', ' table'),\n",
       " ('stuff', ' book')]"
      ]
     },
     "execution_count": 21,
     "metadata": {},
     "output_type": "execute_result"
    }
   ],
   "source": [
    "RDD_3.flatMapValues(lambda x: x.split(\",\")).collect()"
   ]
  },
  {
   "cell_type": "code",
   "execution_count": 22,
   "metadata": {},
   "outputs": [
    {
     "data": {
      "text/plain": [
       "['fruit', 'animal', 'stuff']"
      ]
     },
     "execution_count": 22,
     "metadata": {},
     "output_type": "execute_result"
    }
   ],
   "source": [
    "RDD_3.keys().collect()"
   ]
  },
  {
   "cell_type": "code",
   "execution_count": 23,
   "metadata": {},
   "outputs": [
    {
     "data": {
      "text/plain": [
       "['apple,banane,orange', 'panda, zebra', 'lamp, table, book']"
      ]
     },
     "execution_count": 23,
     "metadata": {},
     "output_type": "execute_result"
    }
   ],
   "source": [
    "RDD_3.values().collect()"
   ]
  },
  {
   "cell_type": "code",
   "execution_count": 24,
   "metadata": {},
   "outputs": [
    {
     "data": {
      "text/plain": [
       "[('animal', 'panda, zebra'),\n",
       " ('fruit', 'apple,banane,orange'),\n",
       " ('stuff', 'lamp, table, book')]"
      ]
     },
     "execution_count": 24,
     "metadata": {},
     "output_type": "execute_result"
    }
   ],
   "source": [
    "RDD_3.sortByKey().collect()"
   ]
  },
  {
   "cell_type": "code",
   "execution_count": 25,
   "metadata": {},
   "outputs": [
    {
     "data": {
      "text/plain": [
       "[('animal', 'panda, zebra'), ('language', 'python, java  , scala')]"
      ]
     },
     "execution_count": 25,
     "metadata": {},
     "output_type": "execute_result"
    }
   ],
   "source": [
    "RDD_4 = sc.parallelize([(\"animal\", \"panda, zebra\"),\n",
    "                       (\"language\", \"python, java  , scala\")])\n",
    "RDD_4.collect()"
   ]
  },
  {
   "cell_type": "code",
   "execution_count": 26,
   "metadata": {},
   "outputs": [
    {
     "data": {
      "text/plain": [
       "[('fruit', 'apple,banane,orange'), ('stuff', 'lamp, table, book')]"
      ]
     },
     "execution_count": 26,
     "metadata": {},
     "output_type": "execute_result"
    }
   ],
   "source": [
    "RDD_3.subtract(RDD_4).collect()"
   ]
  },
  {
   "cell_type": "code",
   "execution_count": 27,
   "metadata": {},
   "outputs": [
    {
     "data": {
      "text/plain": [
       "[('animal', ('panda, zebra', 'panda, zebra'))]"
      ]
     },
     "execution_count": 27,
     "metadata": {},
     "output_type": "execute_result"
    }
   ],
   "source": [
    "RDD_3.join(RDD_4).collect()"
   ]
  },
  {
   "cell_type": "code",
   "execution_count": 28,
   "metadata": {},
   "outputs": [
    {
     "data": {
      "text/plain": [
       "[('language', (None, 'python, java  , scala')),\n",
       " ('animal', ('panda, zebra', 'panda, zebra'))]"
      ]
     },
     "execution_count": 28,
     "metadata": {},
     "output_type": "execute_result"
    }
   ],
   "source": [
    "RDD_3.rightOuterJoin(RDD_4).collect()"
   ]
  },
  {
   "cell_type": "code",
   "execution_count": 29,
   "metadata": {},
   "outputs": [
    {
     "data": {
      "text/plain": [
       "[('stuff', ('lamp, table, book', None)),\n",
       " ('fruit', ('apple,banane,orange', None)),\n",
       " ('animal', ('panda, zebra', 'panda, zebra'))]"
      ]
     },
     "execution_count": 29,
     "metadata": {},
     "output_type": "execute_result"
    }
   ],
   "source": [
    "RDD_3.leftOuterJoin(RDD_4).collect()"
   ]
  },
  {
   "cell_type": "code",
   "execution_count": 30,
   "metadata": {},
   "outputs": [
    {
     "name": "stdout",
     "output_type": "stream",
     "text": [
      "RDD_3:  [('fruit', 'apple,banane,orange'), ('animal', 'panda, zebra'), ('stuff', 'lamp, table, book')]\n",
      "RDD_4:  [('animal', 'panda, zebra'), ('language', 'python, java  , scala')]\n"
     ]
    }
   ],
   "source": [
    "print(\"RDD_3: \", RDD_3.collect())\n",
    "print(\"RDD_4: \", RDD_4.collect())"
   ]
  },
  {
   "cell_type": "code",
   "execution_count": 31,
   "metadata": {},
   "outputs": [
    {
     "data": {
      "text/plain": [
       "[('stuff',\n",
       "  (<pyspark.resultiterable.ResultIterable at 0x7adef061d0>,\n",
       "   <pyspark.resultiterable.ResultIterable at 0x7adef06358>)),\n",
       " ('fruit',\n",
       "  (<pyspark.resultiterable.ResultIterable at 0x7adef06470>,\n",
       "   <pyspark.resultiterable.ResultIterable at 0x7adef06710>)),\n",
       " ('language',\n",
       "  (<pyspark.resultiterable.ResultIterable at 0x7adef06208>,\n",
       "   <pyspark.resultiterable.ResultIterable at 0x7adef06048>)),\n",
       " ('animal',\n",
       "  (<pyspark.resultiterable.ResultIterable at 0x7adef067f0>,\n",
       "   <pyspark.resultiterable.ResultIterable at 0x7adef069b0>))]"
      ]
     },
     "execution_count": 31,
     "metadata": {},
     "output_type": "execute_result"
    }
   ],
   "source": [
    "RDD_3.cogroup(RDD_4).collect()"
   ]
  },
  {
   "cell_type": "code",
   "execution_count": 32,
   "metadata": {},
   "outputs": [
    {
     "name": "stdout",
     "output_type": "stream",
     "text": [
      "('stuff', [['lamp, table, book'], []], 'fruit', [['apple,banane,orange'], []], 'language', [[], ['python, java  , scala']], 'animal', [['panda, zebra'], ['panda, zebra']])\n"
     ]
    }
   ],
   "source": [
    "t = tuple()\n",
    "for i in RDD_3.cogroup(RDD_4).collect():\n",
    "    l = list()\n",
    "    for a in range(len(list(i[1]))):\n",
    "        l.append(list(i[1][a]))\n",
    "    t += (i[0], l)\n",
    "print (t)"
   ]
  },
  {
   "cell_type": "code",
   "execution_count": 33,
   "metadata": {
    "collapsed": true
   },
   "outputs": [],
   "source": [
    "numbers = sc.parallelize([1,2,3,4,5])"
   ]
  },
  {
   "cell_type": "code",
   "execution_count": 57,
   "metadata": {},
   "outputs": [
    {
     "data": {
      "text/plain": [
       "([1, 2, 3, 4, 5], 15)"
      ]
     },
     "execution_count": 57,
     "metadata": {},
     "output_type": "execute_result"
    }
   ],
   "source": [
    "sumof = lambda k, v: (k[0] + [v], k[1] + v)\n",
    "agg = lambda k, v: (k[0] + v[0] , k[1] + v[1])\n",
    "numbers.aggregate(([],0),\n",
    "                 sumof,\n",
    "                 agg)"
   ]
  },
  {
   "cell_type": "code",
   "execution_count": 35,
   "metadata": {
    "collapsed": true
   },
   "outputs": [],
   "source": [
    "RDD_5 = sc.parallelize([(\"kolay_dil\", \"python\"),\n",
    "                       (\"zor_dil\", \"C\"),\n",
    "                       (\"kolay_dil\", \"javascript\"),\n",
    "                       (\"kolay_dil\", \"html\"),\n",
    "                        (\"zor_dil\", \"C++\"),\n",
    "                       (\"zor_dil\", \"C\")])"
   ]
  },
  {
   "cell_type": "code",
   "execution_count": 36,
   "metadata": {},
   "outputs": [
    {
     "data": {
      "text/plain": [
       "defaultdict(int, {'kolay_dil': 3, 'zor_dil': 3})"
      ]
     },
     "execution_count": 36,
     "metadata": {},
     "output_type": "execute_result"
    }
   ],
   "source": [
    "RDD_5.countByKey()"
   ]
  },
  {
   "cell_type": "code",
   "execution_count": 37,
   "metadata": {},
   "outputs": [
    {
     "data": {
      "text/plain": [
       "defaultdict(int,\n",
       "            {('kolay_dil', 'html'): 1,\n",
       "             ('kolay_dil', 'javascript'): 1,\n",
       "             ('kolay_dil', 'python'): 1,\n",
       "             ('zor_dil', 'C'): 2,\n",
       "             ('zor_dil', 'C++'): 1})"
      ]
     },
     "execution_count": 37,
     "metadata": {},
     "output_type": "execute_result"
    }
   ],
   "source": [
    "RDD_5.countByValue()"
   ]
  },
  {
   "cell_type": "code",
   "execution_count": 38,
   "metadata": {
    "collapsed": true
   },
   "outputs": [],
   "source": [
    "animal = sc.parallelize([\"panda\",\n",
    "                        \"penguen\",\n",
    "                        \"mouse\",\n",
    "                         \"bird\",\n",
    "                         \"lion\",\n",
    "                         \"cheetah\"\n",
    "                        ])"
   ]
  },
  {
   "cell_type": "code",
   "execution_count": 39,
   "metadata": {},
   "outputs": [
    {
     "data": {
      "text/plain": [
       "[('l', <pyspark.resultiterable.ResultIterable at 0x7ade6f4908>),\n",
       " ('m', <pyspark.resultiterable.ResultIterable at 0x7ade6f4940>),\n",
       " ('p', <pyspark.resultiterable.ResultIterable at 0x7ade6f4278>),\n",
       " ('b', <pyspark.resultiterable.ResultIterable at 0x7ade6f49b0>),\n",
       " ('c', <pyspark.resultiterable.ResultIterable at 0x7ade6f4b70>)]"
      ]
     },
     "execution_count": 39,
     "metadata": {},
     "output_type": "execute_result"
    }
   ],
   "source": [
    "animal.groupBy(lambda x: x[0]).collect()"
   ]
  },
  {
   "cell_type": "code",
   "execution_count": 40,
   "metadata": {},
   "outputs": [
    {
     "name": "stdout",
     "output_type": "stream",
     "text": [
      "[('l', ['lion']), ('m', ['mouse']), ('p', ['panda', 'penguen']), ('b', ['bird']), ('c', ['cheetah'])]\n"
     ]
    }
   ],
   "source": [
    "print([(k, list(v)) for (k, v) in animal.groupBy(lambda x:  x[0]).collect()])"
   ]
  },
  {
   "cell_type": "code",
   "execution_count": 41,
   "metadata": {},
   "outputs": [
    {
     "data": {
      "text/plain": [
       "[('kolay_dil', 'python'),\n",
       " ('zor_dil', 'C'),\n",
       " ('kolay_dil', 'javascript'),\n",
       " ('kolay_dil', 'html'),\n",
       " ('zor_dil', 'C++'),\n",
       " ('zor_dil', 'C')]"
      ]
     },
     "execution_count": 41,
     "metadata": {},
     "output_type": "execute_result"
    }
   ],
   "source": [
    "RDD_5.collect()"
   ]
  },
  {
   "cell_type": "code",
   "execution_count": 42,
   "metadata": {},
   "outputs": [
    {
     "data": {
      "text/plain": [
       "['python', 'javascript', 'html']"
      ]
     },
     "execution_count": 42,
     "metadata": {},
     "output_type": "execute_result"
    }
   ],
   "source": [
    "RDD_5.lookup(\"kolay_dil\")"
   ]
  },
  {
   "cell_type": "code",
   "execution_count": 43,
   "metadata": {},
   "outputs": [
    {
     "data": {
      "text/plain": [
       "[1, 2, 3, 4, 5]"
      ]
     },
     "execution_count": 43,
     "metadata": {},
     "output_type": "execute_result"
    }
   ],
   "source": [
    "numbers.collect()"
   ]
  },
  {
   "cell_type": "code",
   "execution_count": 44,
   "metadata": {},
   "outputs": [
    {
     "name": "stdout",
     "output_type": "stream",
     "text": [
      "[1, 4, 9, 16, 25]\n"
     ]
    }
   ],
   "source": [
    "squared = numbers.map(lambda x: x**2)\n",
    "print(squared.collect())"
   ]
  },
  {
   "cell_type": "code",
   "execution_count": 45,
   "metadata": {},
   "outputs": [
    {
     "name": "stdout",
     "output_type": "stream",
     "text": [
      "[(1, 1), (2, 4), (3, 9), (4, 16), (5, 25)]\n"
     ]
    }
   ],
   "source": [
    "print(numbers.zip(squared).collect())"
   ]
  },
  {
   "cell_type": "code",
   "execution_count": 46,
   "metadata": {},
   "outputs": [
    {
     "data": {
      "text/plain": [
       "8"
      ]
     },
     "execution_count": 46,
     "metadata": {},
     "output_type": "execute_result"
    }
   ],
   "source": [
    "data = [(\"a\", 3), (\"b\", 4), (\"a\", 1)]\n",
    "sc.parallelize(data).reduceByKey(lambda xy: xy[0] + xy[1]).getNumPartitions()"
   ]
  },
  {
   "cell_type": "code",
   "execution_count": 47,
   "metadata": {},
   "outputs": [
    {
     "data": {
      "text/plain": [
       "10"
      ]
     },
     "execution_count": 47,
     "metadata": {},
     "output_type": "execute_result"
    }
   ],
   "source": [
    "sc.parallelize(data).reduceByKey(lambda xy: xy[0] +xy[1], 10).getNumPartitions()"
   ]
  },
  {
   "cell_type": "code",
   "execution_count": 7,
   "metadata": {},
   "outputs": [],
   "source": [
    "zoo = sc.parallelize([(\"panda\", 0),\n",
    "                     (\"zebra\", 3),\n",
    "                     (\"snake\", 1),\n",
    "                     (\"panda\", 5),\n",
    "                     (\"zebra\", 4),\n",
    "                     (\"snake\", 2),\n",
    "                     (\"zebra\", 1)])"
   ]
  },
  {
   "cell_type": "code",
   "execution_count": 8,
   "metadata": {},
   "outputs": [
    {
     "data": {
      "text/plain": [
       "[('panda', <pyspark.resultiterable.ResultIterable at 0xf4ec1d05f8>),\n",
       " ('zebra', <pyspark.resultiterable.ResultIterable at 0xf4ec1d0588>),\n",
       " ('snake', <pyspark.resultiterable.ResultIterable at 0xf4ec1d0668>)]"
      ]
     },
     "execution_count": 8,
     "metadata": {},
     "output_type": "execute_result"
    }
   ],
   "source": [
    "zoo.groupByKey().collect()"
   ]
  },
  {
   "cell_type": "code",
   "execution_count": 9,
   "metadata": {},
   "outputs": [
    {
     "name": "stdout",
     "output_type": "stream",
     "text": [
      "('panda', [0, 5])\n",
      "('zebra', [3, 4, 1])\n",
      "('snake', [1, 2])\n"
     ]
    }
   ],
   "source": [
    "for i in zoo.groupByKey().collect():\n",
    "    print((i[0], list(i[1])))"
   ]
  },
  {
   "cell_type": "code",
   "execution_count": 10,
   "metadata": {},
   "outputs": [
    {
     "data": {
      "text/plain": [
       "[('panda', (0, 1)),\n",
       " ('zebra', (3, 1)),\n",
       " ('snake', (1, 1)),\n",
       " ('panda', (5, 1)),\n",
       " ('zebra', (4, 1)),\n",
       " ('snake', (2, 1)),\n",
       " ('zebra', (1, 1))]"
      ]
     },
     "execution_count": 10,
     "metadata": {},
     "output_type": "execute_result"
    }
   ],
   "source": [
    "zoo.mapValues(lambda x: (x,  1)).collect()"
   ]
  },
  {
   "cell_type": "markdown",
   "metadata": {},
   "source": [
    "GroupByKey Kullanmadan nasıl yaparız ???"
   ]
  },
  {
   "cell_type": "code",
   "execution_count": 11,
   "metadata": {},
   "outputs": [
    {
     "data": {
      "text/plain": [
       "[('panda', [0, 5]), ('zebra', [3, 1]), ('snake', [1, 2])]"
      ]
     },
     "execution_count": 11,
     "metadata": {},
     "output_type": "execute_result"
    }
   ],
   "source": [
    "zoo.mapValues(lambda x: (x,  1)).reduceByKey(lambda x, y: [x[0], y[0]]).collect()"
   ]
  },
  {
   "cell_type": "code",
   "execution_count": 12,
   "metadata": {},
   "outputs": [
    {
     "name": "stdout",
     "output_type": "stream",
     "text": [
      "[('panda', [0, 5]), ('zebra', [3, 4, 1]), ('snake', [1, 2])]\n"
     ]
    }
   ],
   "source": [
    "print(list((j[0],  list(j[1])) for j in zoo.groupByKey().collect()))"
   ]
  },
  {
   "cell_type": "code",
   "execution_count": null,
   "metadata": {
    "collapsed": true
   },
   "outputs": [],
   "source": []
  }
 ],
 "metadata": {
  "kernelspec": {
   "display_name": "Python 3",
   "language": "python",
   "name": "python3"
  },
  "language_info": {
   "codemirror_mode": {
    "name": "ipython",
    "version": 3
   },
   "file_extension": ".py",
   "mimetype": "text/x-python",
   "name": "python",
   "nbconvert_exporter": "python",
   "pygments_lexer": "ipython3",
   "version": "3.6.3"
  }
 },
 "nbformat": 4,
 "nbformat_minor": 2
}
